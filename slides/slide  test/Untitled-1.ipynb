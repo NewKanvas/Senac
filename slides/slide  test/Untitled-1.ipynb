{
 "cells": [
  {
   "cell_type": "markdown",
   "metadata": {},
   "source": [
    "# **Retrospectiva - Hot Air Balloon**\n",
    "\n",
    "### **Objetivo da Retrospectiva:**\n",
    "\n",
    "- Identificar o que funcionou e o que pode ser melhorado.\n",
    "- Abordagem técnica e aspectos relacionados ao trabalho em equipe.\n",
    "\n",
    "### **Hot Air Balloon:**\n",
    "\n",
    "- Descrição Visual:\n",
    "\n",
    "        Balão de ar quente dividido em duas partes.\n",
    "        Parte superior: Forças que impulsionam para cima.\n",
    "        Parte inferior: Forças que puxam para baixo.\n",
    "        Lados: As forças futuras\n",
    "\n",
    "<img src=\"5f61169780f30434e6e731f6_Hot Air Balloon.png\" alt=\"Modelo Conceitual\" width=\"500\">\n",
    "\n",
    "Ajuda a equipe a identificar coisas que fazem elas se mover rapidamente e coisas que fazem se mover devagar. É baseada em dois pontos focais: força e ar quente e forças que puxam para baixo.\n",
    "\n",
    "## **Descrição das Partes**\n",
    "\n",
    "#### **Na parte superior do balão**\n",
    "O Fogo e ar quente é o que ajuda o balão a subir, olhando pro nosso time, o que nos ajuda a subir? Quais são as coisas que nos impulsionam?\n",
    "\n",
    "#### **Na parde inferior do balão**\n",
    "\n",
    "Ao mesmo tempo, temos os sacos de areia na cesta dos viajantes do balão nos que puxa pra baixo, são as forças que puxam para baixo, por isso quais são as forças que nos puxam \"como time\" para baixo?\n",
    "\n",
    "#### **Tempestade**\n",
    "\n",
    "O que é a tempestade à nossa frente? O que tornará nossa viagem turbulenta?\n",
    "\n",
    "#### **Sol**\n",
    "\n",
    "O que poderíamos fazer para evitar a tempestade e voltar para os dias de sol? O que devemos fazer para superar os possíveis desafios que temos pela frente? Essa atividade funciona bem para equipes remotas.\n",
    "\n",
    "\n",
    "<img src=\"quadro-retro-balao-ar-quente-md.jpg\" alt=\"Modelo Conceitual\" width=\"500\">"
   ]
  }
 ],
 "metadata": {
  "language_info": {
   "name": "python"
  }
 },
 "nbformat": 4,
 "nbformat_minor": 2
}
