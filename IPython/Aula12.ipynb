{
 "cells": [
  {
   "cell_type": "code",
   "execution_count": 5,
   "metadata": {},
   "outputs": [],
   "source": [
    "import pandas as pd\n",
    "import numpy as np\n",
    "import seaborn as sns\n",
    "import matplotlib\n",
    "import matplotlib.pyplot as plt"
   ]
  },
  {
   "cell_type": "code",
   "execution_count": 6,
   "metadata": {},
   "outputs": [
    {
     "data": {
      "text/plain": [
       "(Rio de Janeiro, 2000)    33871648\n",
       "(Rio de Janeiro, 2010)    37253956\n",
       "(Recife, 2000)            18976457\n",
       "(Recife, 2010)            19378102\n",
       "(Fortaleza, 2000)         20851820\n",
       "(Fortaleza, 2010)         25145561\n",
       "(Porto Alegre, 2000)      21976457\n",
       "(Porto Alegre, 2010)      23378102\n",
       "dtype: int64"
      ]
     },
     "execution_count": 6,
     "metadata": {},
     "output_type": "execute_result"
    }
   ],
   "source": [
    "index = [('Rio de Janeiro', 2000), ('Rio de Janeiro', 2010),\n",
    "         ('Recife', 2000), ('Recife', 2010),\n",
    "         ('Fortaleza', 2000), ('Fortaleza', 2010),\n",
    "         ('Porto Alegre', 2000), ('Porto Alegre', 2010)]\n",
    "populations = [33871648, 37253956,\n",
    "               18976457, 19378102,\n",
    "               20851820, 25145561,\n",
    "               21976457, 23378102]\n",
    "pop = pd.Series(populations, index=index)\n",
    "pop"
   ]
  },
  {
   "cell_type": "code",
   "execution_count": 7,
   "metadata": {},
   "outputs": [
    {
     "data": {
      "text/plain": [
       "(Rio de Janeiro, 2010)    37253956\n",
       "(Recife, 2000)            18976457\n",
       "dtype: int64"
      ]
     },
     "execution_count": 7,
     "metadata": {},
     "output_type": "execute_result"
    }
   ],
   "source": [
    "pop[('Rio de Janeiro', 2010):('Recife', 2000)]"
   ]
  },
  {
   "cell_type": "code",
   "execution_count": 8,
   "metadata": {},
   "outputs": [
    {
     "data": {
      "text/plain": [
       "Rio de Janeiro  2000    33871648\n",
       "                2010    37253956\n",
       "Recife          2000    18976457\n",
       "                2010    19378102\n",
       "Fortaleza       2000    20851820\n",
       "                2010    25145561\n",
       "Porto Alegre    2000    21976457\n",
       "                2010    23378102\n",
       "dtype: int64"
      ]
     },
     "execution_count": 8,
     "metadata": {},
     "output_type": "execute_result"
    }
   ],
   "source": [
    "pop_multiindex = pd.Series([33871648, 37253956,\n",
    "               18976457, 19378102,\n",
    "               20851820, 25145561,\n",
    "               21976457, 23378102],\n",
    "               index=[['Rio de Janeiro','Rio de Janeiro','Recife','Recife','Fortaleza','Fortaleza','Porto Alegre','Porto Alegre'],\n",
    "                      [2000,2010,2000,2010,2000,2010,2000,2010]])\n",
    "\n",
    "pop_multiindex"
   ]
  },
  {
   "cell_type": "code",
   "execution_count": 9,
   "metadata": {},
   "outputs": [
    {
     "data": {
      "text/plain": [
       "MultiIndex([('Rio de Janeiro', 2000),\n",
       "            ('Rio de Janeiro', 2010),\n",
       "            (        'Recife', 2000),\n",
       "            (        'Recife', 2010),\n",
       "            (     'Fortaleza', 2000),\n",
       "            (     'Fortaleza', 2010),\n",
       "            (  'Porto Alegre', 2000),\n",
       "            (  'Porto Alegre', 2010)],\n",
       "           )"
      ]
     },
     "execution_count": 9,
     "metadata": {},
     "output_type": "execute_result"
    }
   ],
   "source": [
    "pop_multiindex.index"
   ]
  },
  {
   "cell_type": "code",
   "execution_count": 10,
   "metadata": {},
   "outputs": [
    {
     "data": {
      "text/plain": [
       "2000    33871648\n",
       "2010    37253956\n",
       "dtype: int64"
      ]
     },
     "execution_count": 10,
     "metadata": {},
     "output_type": "execute_result"
    }
   ],
   "source": [
    "pop_multiindex['Rio de Janeiro']"
   ]
  },
  {
   "cell_type": "code",
   "execution_count": 13,
   "metadata": {},
   "outputs": [
    {
     "data": {
      "text/plain": [
       "Rio de Janeiro  2000    33871648\n",
       "                2010    37253956\n",
       "Fortaleza       2000    20851820\n",
       "                2010    25145561\n",
       "dtype: int64"
      ]
     },
     "execution_count": 13,
     "metadata": {},
     "output_type": "execute_result"
    }
   ],
   "source": [
    "pop_multiindex.loc[['Rio de Janeiro','Fortaleza']]"
   ]
  },
  {
   "cell_type": "code",
   "execution_count": 12,
   "metadata": {},
   "outputs": [
    {
     "data": {
      "text/html": [
       "<div>\n",
       "<style scoped>\n",
       "    .dataframe tbody tr th:only-of-type {\n",
       "        vertical-align: middle;\n",
       "    }\n",
       "\n",
       "    .dataframe tbody tr th {\n",
       "        vertical-align: top;\n",
       "    }\n",
       "\n",
       "    .dataframe thead th {\n",
       "        text-align: right;\n",
       "    }\n",
       "</style>\n",
       "<table border=\"1\" class=\"dataframe\">\n",
       "  <thead>\n",
       "    <tr style=\"text-align: right;\">\n",
       "      <th></th>\n",
       "      <th>2000</th>\n",
       "      <th>2010</th>\n",
       "    </tr>\n",
       "  </thead>\n",
       "  <tbody>\n",
       "    <tr>\n",
       "      <th>Fortaleza</th>\n",
       "      <td>20851820</td>\n",
       "      <td>25145561</td>\n",
       "    </tr>\n",
       "    <tr>\n",
       "      <th>Porto Alegre</th>\n",
       "      <td>21976457</td>\n",
       "      <td>23378102</td>\n",
       "    </tr>\n",
       "    <tr>\n",
       "      <th>Recife</th>\n",
       "      <td>18976457</td>\n",
       "      <td>19378102</td>\n",
       "    </tr>\n",
       "    <tr>\n",
       "      <th>Rio de Janeiro</th>\n",
       "      <td>33871648</td>\n",
       "      <td>37253956</td>\n",
       "    </tr>\n",
       "  </tbody>\n",
       "</table>\n",
       "</div>"
      ],
      "text/plain": [
       "                    2000      2010\n",
       "Fortaleza       20851820  25145561\n",
       "Porto Alegre    21976457  23378102\n",
       "Recife          18976457  19378102\n",
       "Rio de Janeiro  33871648  37253956"
      ]
     },
     "execution_count": 12,
     "metadata": {},
     "output_type": "execute_result"
    }
   ],
   "source": [
    "pop_multiindex.unstack()"
   ]
  }
 ],
 "metadata": {
  "kernelspec": {
   "display_name": "Python 3",
   "language": "python",
   "name": "python3"
  },
  "language_info": {
   "codemirror_mode": {
    "name": "ipython",
    "version": 3
   },
   "file_extension": ".py",
   "mimetype": "text/x-python",
   "name": "python",
   "nbconvert_exporter": "python",
   "pygments_lexer": "ipython3",
   "version": "3.11.6"
  }
 },
 "nbformat": 4,
 "nbformat_minor": 2
}
