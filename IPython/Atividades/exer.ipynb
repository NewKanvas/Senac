{
 "cells": [
  {
   "cell_type": "code",
   "execution_count": 7,
   "metadata": {},
   "outputs": [],
   "source": [
    "import pandas as pd\n",
    "import numpy as np"
   ]
  },
  {
   "cell_type": "code",
   "execution_count": 4,
   "metadata": {},
   "outputs": [],
   "source": [
    "aluno = [\n",
    "    {'nome': 'João', 'idade': 20, 'nota': 8.5},\n",
    "    {'nome': 'Maria', 'idade': 22, 'nota': 9.0},\n",
    "    {'nome': 'Pedro', 'idade': 21, 'nota': 7.8}\n",
    "]\n",
    "\n",
    "alunos = pd.DataFrame(aluno)"
   ]
  },
  {
   "cell_type": "code",
   "execution_count": 6,
   "metadata": {},
   "outputs": [
    {
     "name": "stdout",
     "output_type": "stream",
     "text": [
      "Soma: 0    11\n",
      "1    12\n",
      "2    13\n",
      "3    14\n",
      "4    15\n",
      "dtype: int64\n",
      "Subtração: 0   -2\n",
      "1   -1\n",
      "2    0\n",
      "3    1\n",
      "4    2\n",
      "dtype: int64\n",
      "Multiplicação: 0     2\n",
      "1     4\n",
      "2     6\n",
      "3     8\n",
      "4    10\n",
      "dtype: int64\n"
     ]
    }
   ],
   "source": [
    "numeros = pd.Series([1, 2, 3, 4, 5])\n",
    "\n",
    "soma = numeros + 10\n",
    "subtracao = numeros - 3\n",
    "multiplicacao = numeros * 2\n",
    "\n",
    "print(\"Soma:\", soma)\n",
    "print(\"Subtração:\", subtracao)\n",
    "print(\"Multiplicação:\", multiplicacao)"
   ]
  },
  {
   "cell_type": "code",
   "execution_count": 8,
   "metadata": {},
   "outputs": [
    {
     "name": "stdout",
     "output_type": "stream",
     "text": [
      "Array Soma: [ 7  9 11 13 15]\n",
      "Array Subtração: [-5 -5 -5 -5 -5]\n",
      "Array Multiplicação: [ 6 14 24 36 50]\n"
     ]
    }
   ],
   "source": [
    "array1 = np.array([1, 2, 3, 4, 5])\n",
    "array2 = np.array([6, 7, 8, 9, 10])\n",
    "\n",
    "soma = array1 + array2\n",
    "subtracao = array1 - array2\n",
    "multiplicacao = array1 * array2\n",
    "\n",
    "print(\"Array Soma:\", soma)\n",
    "print(\"Array Subtração:\", subtracao)\n",
    "print(\"Array Multiplicação:\", multiplicacao)"
   ]
  },
  {
   "cell_type": "code",
   "execution_count": 10,
   "metadata": {},
   "outputs": [
    {
     "name": "stdout",
     "output_type": "stream",
     "text": [
      "\n",
      "Alunos com notas maiores ou iguais a 8.5:\n",
      "    nome  idade  nota\n",
      "0   João     20   8.5\n",
      "1  Maria     22   9.0\n",
      "    nome  idade  nota\n",
      "1  Maria     22   9.0\n",
      "2  Pedro     21   7.8\n",
      "0   João     20   8.5\n"
     ]
    }
   ],
   "source": [
    "aluno = [\n",
    "    {'nome': 'João', 'idade': 20, 'nota': 8.5},\n",
    "    {'nome': 'Maria', 'idade': 22, 'nota': 9.0},\n",
    "    {'nome': 'Pedro', 'idade': 21, 'nota': 7.8}\n",
    "]\n",
    "\n",
    "alunos = pd.DataFrame(aluno)\n",
    "\n",
    "na = alunos[alunos['nota'] >= 8.5]\n",
    "\n",
    "print(\"\\nAlunos com notas maiores ou iguais a 8.5:\")\n",
    "print(na)\n",
    "\n",
    "no = alunos.sort_values(by='idade', ascending=False)\n",
    "print(no)\n"
   ]
  },
  {
   "cell_type": "code",
   "execution_count": 11,
   "metadata": {},
   "outputs": [
    {
     "name": "stdout",
     "output_type": "stream",
     "text": [
      "A média é: 30.0\n"
     ]
    }
   ],
   "source": [
    "calcular_media = lambda lista: sum(lista) / len(lista)\n",
    "\n",
    "# Exemplo de uso\n",
    "minha_lista = [10, 20, 30, 40, 50]\n",
    "media = calcular_media(minha_lista)\n",
    "print(\"A média é:\", media)\n"
   ]
  },
  {
   "cell_type": "code",
   "execution_count": 12,
   "metadata": {},
   "outputs": [
    {
     "name": "stdout",
     "output_type": "stream",
     "text": [
      "Mediana da lista 1: 5\n",
      "Mediana da lista 2: 7.0\n"
     ]
    }
   ],
   "source": [
    "calcular_mediana = lambda lista: sorted(lista)[len(lista)//2] if len(lista) % 2 != 0 else sum(sorted(lista)[len(lista)//2-1:len(lista)//2+1])/2\n",
    "\n",
    "# Exemplo de uso\n",
    "lista1 = [1, 3, 5, 7, 9]\n",
    "lista2 = [2, 4, 6, 8, 10, 12]\n",
    "\n",
    "print(\"Mediana da lista 1:\", calcular_mediana(lista1))  # Deve retornar 5\n",
    "print(\"Mediana da lista 2:\", calcular_mediana(lista2))  # Deve retornar 6.0\n"
   ]
  }
 ],
 "metadata": {
  "kernelspec": {
   "display_name": "Python 3",
   "language": "python",
   "name": "python3"
  },
  "language_info": {
   "codemirror_mode": {
    "name": "ipython",
    "version": 3
   },
   "file_extension": ".py",
   "mimetype": "text/x-python",
   "name": "python",
   "nbconvert_exporter": "python",
   "pygments_lexer": "ipython3",
   "version": "3.11.6"
  }
 },
 "nbformat": 4,
 "nbformat_minor": 2
}
